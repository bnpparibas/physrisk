{
 "cells": [
  {
   "cell_type": "code",
   "execution_count": null,
   "metadata": {},
   "outputs": [],
   "source": [
    "# UNCOMMENT TO RUN THIS NOTEBOOK\n",
    "# pip install nbformat pandas plotly requests\n",
    "\n",
    "import plotly.graph_objs as go\n",
    "import pprint as pp\n",
    "import requests\n",
    "\n",
    "from dotenv import load_dotenv\n",
    "from physrisk.container import Container\n",
    "from plotly.subplots import make_subplots\n",
    "from typing import NamedTuple\n",
    "import plotly.io\n",
    "\n",
    "plotly.io.renderers.default = \"notebook\"\n",
    "import sys\n",
    "sys.path.append(\"../../..\")\n",
    "import physrisk\n",
    "from physrisk.vulnerability_models.config_based_model import config_items_from_csv\n"
   ]
  },
  {
   "cell_type": "markdown",
   "metadata": {},
   "source": [
    "# Vulnerability configuration\n",
    "\n",
    "## Types of curve\n",
    "\n",
    "Two types:\n",
    "1) *Damage curves*  \n",
    "For acute risks, this specifies the fractional damage or disruption (e.g. downtime or efficiency loss), given the occurrence of a hazard with a given indicator value.  \n",
    "Most commonly, curve_type: 'indicator/piecewise_linear'.  \n",
    "e.g. for riverine flood, the curve $x$ values are depth in metres and the curve $y$ values are damage as fraction of total insurable value.\n",
    "\n",
    "2) *Threshold curves*  \n",
    "For chronic risks, this specifies the fractional damage or disruption that occurs for hazard indicator threshold values. This is for hazard indicators that give the mean amount of time per year for which an indicator is greater than a threshold value.   \n",
    "Most commonly, curve_type: 'threshold/piecewise_linear'.  \n",
    "e.g. for chronic heat, the indicator might be the number of days per year for which the maximum near-surface air temperature is greater than $t$ degrees, $t$ being the threshold values. The curve $x$ values are the thresholds in degrees Celsius and the curve $y$ values are the losses in production that occur for each day for which the maximum temperature is at that value.\n",
    "\n",
    "## Identifying assets\n",
    "Assets are identified by:\n",
    "- asset class (the broad class e.g. real estate asset or power generating asset within which the asset vulnerabilities are modelled in a similar way)\n",
    "- a number of asset attributes\n",
    "\n",
    "### In configuration \n",
    "The vulnerability function is identified by a set of attribute key/value pairs in the form '<attribute1_name>=<attribute1_value,<attribute2_name>=<attribute2_value>,...'. The attributes are matched to those of the asset. \n",
    "\n",
    "### Example 1: assets specified by type/location\n",
    "We can define sets of functions by type and location, e.g. for real estate assets 'type=Buildings/Commercial,location=Europe'\n",
    "\n",
    "### Example 2: identifier only\n",
    "For families of vulnerability functions, we can define a set of curves by, e.g. 'hazus_id=43'.\n",
    "\n",
    "In all cases, logic in code maps an asset's attributes onto the attributes that define the vulnerability function.\n"
   ]
  },
  {
   "cell_type": "code",
   "execution_count": 23,
   "metadata": {},
   "outputs": [],
   "source": [
    "config_items = config_items_from_csv(\"/Users/joemoorhouse/Code/main/bnpp/physrisk/src/physrisk/data/vulnerability_config.csv\")\n",
    "c1 = next(c for c in config_items if c.asset_class == \"RealEstateAsset\" and c.indicator_id==\"flood_depth\")\n",
    "c2 = next(c for c in config_items if c.asset_class == \"ManufacturingAsset\" and c.indicator_id==\"days_wbgt_above\")"
   ]
  },
  {
   "cell_type": "code",
   "execution_count": 27,
   "metadata": {},
   "outputs": [
    {
     "data": {
      "text/html": [
       "<div>                            <div id=\"f447e2de-0c52-433c-b75f-67d4ed938dc1\" class=\"plotly-graph-div\" style=\"height:525px; width:100%;\"></div>            <script type=\"text/javascript\">                require([\"plotly\"], function(Plotly) {                    window.PLOTLYENV=window.PLOTLYENV || {};                                    if (document.getElementById(\"f447e2de-0c52-433c-b75f-67d4ed938dc1\")) {                    Plotly.newPlot(                        \"f447e2de-0c52-433c-b75f-67d4ed938dc1\",                        [{\"name\":\"Example damage curve\",\"x\":[0.05,0.5,1.0,1.5,2.0,3.0,4.0,5.0,6.0],\"y\":[0.0,0.25,0.4,0.5,0.6,0.75,0.85,0.95,1.0],\"type\":\"scatter\",\"xaxis\":\"x\",\"yaxis\":\"y\"},{\"name\":\"Example threshold curve\",\"x\":[20.0,24.0,28.0,32.0,36.0,40.0,44.0,48.0],\"y\":[0.0,0.01,0.125,0.45,0.775,0.975,1.0,1.0],\"type\":\"scatter\",\"xaxis\":\"x2\",\"yaxis\":\"y2\"}],                        {\"template\":{\"data\":{\"histogram2dcontour\":[{\"type\":\"histogram2dcontour\",\"colorbar\":{\"outlinewidth\":0,\"ticks\":\"\"},\"colorscale\":[[0.0,\"#0d0887\"],[0.1111111111111111,\"#46039f\"],[0.2222222222222222,\"#7201a8\"],[0.3333333333333333,\"#9c179e\"],[0.4444444444444444,\"#bd3786\"],[0.5555555555555556,\"#d8576b\"],[0.6666666666666666,\"#ed7953\"],[0.7777777777777778,\"#fb9f3a\"],[0.8888888888888888,\"#fdca26\"],[1.0,\"#f0f921\"]]}],\"choropleth\":[{\"type\":\"choropleth\",\"colorbar\":{\"outlinewidth\":0,\"ticks\":\"\"}}],\"histogram2d\":[{\"type\":\"histogram2d\",\"colorbar\":{\"outlinewidth\":0,\"ticks\":\"\"},\"colorscale\":[[0.0,\"#0d0887\"],[0.1111111111111111,\"#46039f\"],[0.2222222222222222,\"#7201a8\"],[0.3333333333333333,\"#9c179e\"],[0.4444444444444444,\"#bd3786\"],[0.5555555555555556,\"#d8576b\"],[0.6666666666666666,\"#ed7953\"],[0.7777777777777778,\"#fb9f3a\"],[0.8888888888888888,\"#fdca26\"],[1.0,\"#f0f921\"]]}],\"heatmap\":[{\"type\":\"heatmap\",\"colorbar\":{\"outlinewidth\":0,\"ticks\":\"\"},\"colorscale\":[[0.0,\"#0d0887\"],[0.1111111111111111,\"#46039f\"],[0.2222222222222222,\"#7201a8\"],[0.3333333333333333,\"#9c179e\"],[0.4444444444444444,\"#bd3786\"],[0.5555555555555556,\"#d8576b\"],[0.6666666666666666,\"#ed7953\"],[0.7777777777777778,\"#fb9f3a\"],[0.8888888888888888,\"#fdca26\"],[1.0,\"#f0f921\"]]}],\"heatmapgl\":[{\"type\":\"heatmapgl\",\"colorbar\":{\"outlinewidth\":0,\"ticks\":\"\"},\"colorscale\":[[0.0,\"#0d0887\"],[0.1111111111111111,\"#46039f\"],[0.2222222222222222,\"#7201a8\"],[0.3333333333333333,\"#9c179e\"],[0.4444444444444444,\"#bd3786\"],[0.5555555555555556,\"#d8576b\"],[0.6666666666666666,\"#ed7953\"],[0.7777777777777778,\"#fb9f3a\"],[0.8888888888888888,\"#fdca26\"],[1.0,\"#f0f921\"]]}],\"contourcarpet\":[{\"type\":\"contourcarpet\",\"colorbar\":{\"outlinewidth\":0,\"ticks\":\"\"}}],\"contour\":[{\"type\":\"contour\",\"colorbar\":{\"outlinewidth\":0,\"ticks\":\"\"},\"colorscale\":[[0.0,\"#0d0887\"],[0.1111111111111111,\"#46039f\"],[0.2222222222222222,\"#7201a8\"],[0.3333333333333333,\"#9c179e\"],[0.4444444444444444,\"#bd3786\"],[0.5555555555555556,\"#d8576b\"],[0.6666666666666666,\"#ed7953\"],[0.7777777777777778,\"#fb9f3a\"],[0.8888888888888888,\"#fdca26\"],[1.0,\"#f0f921\"]]}],\"surface\":[{\"type\":\"surface\",\"colorbar\":{\"outlinewidth\":0,\"ticks\":\"\"},\"colorscale\":[[0.0,\"#0d0887\"],[0.1111111111111111,\"#46039f\"],[0.2222222222222222,\"#7201a8\"],[0.3333333333333333,\"#9c179e\"],[0.4444444444444444,\"#bd3786\"],[0.5555555555555556,\"#d8576b\"],[0.6666666666666666,\"#ed7953\"],[0.7777777777777778,\"#fb9f3a\"],[0.8888888888888888,\"#fdca26\"],[1.0,\"#f0f921\"]]}],\"mesh3d\":[{\"type\":\"mesh3d\",\"colorbar\":{\"outlinewidth\":0,\"ticks\":\"\"}}],\"scatter\":[{\"fillpattern\":{\"fillmode\":\"overlay\",\"size\":10,\"solidity\":0.2},\"type\":\"scatter\"}],\"parcoords\":[{\"type\":\"parcoords\",\"line\":{\"colorbar\":{\"outlinewidth\":0,\"ticks\":\"\"}}}],\"scatterpolargl\":[{\"type\":\"scatterpolargl\",\"marker\":{\"colorbar\":{\"outlinewidth\":0,\"ticks\":\"\"}}}],\"bar\":[{\"error_x\":{\"color\":\"#2a3f5f\"},\"error_y\":{\"color\":\"#2a3f5f\"},\"marker\":{\"line\":{\"color\":\"#E5ECF6\",\"width\":0.5},\"pattern\":{\"fillmode\":\"overlay\",\"size\":10,\"solidity\":0.2}},\"type\":\"bar\"}],\"scattergeo\":[{\"type\":\"scattergeo\",\"marker\":{\"colorbar\":{\"outlinewidth\":0,\"ticks\":\"\"}}}],\"scatterpolar\":[{\"type\":\"scatterpolar\",\"marker\":{\"colorbar\":{\"outlinewidth\":0,\"ticks\":\"\"}}}],\"histogram\":[{\"marker\":{\"pattern\":{\"fillmode\":\"overlay\",\"size\":10,\"solidity\":0.2}},\"type\":\"histogram\"}],\"scattergl\":[{\"type\":\"scattergl\",\"marker\":{\"colorbar\":{\"outlinewidth\":0,\"ticks\":\"\"}}}],\"scatter3d\":[{\"type\":\"scatter3d\",\"line\":{\"colorbar\":{\"outlinewidth\":0,\"ticks\":\"\"}},\"marker\":{\"colorbar\":{\"outlinewidth\":0,\"ticks\":\"\"}}}],\"scattermapbox\":[{\"type\":\"scattermapbox\",\"marker\":{\"colorbar\":{\"outlinewidth\":0,\"ticks\":\"\"}}}],\"scatterternary\":[{\"type\":\"scatterternary\",\"marker\":{\"colorbar\":{\"outlinewidth\":0,\"ticks\":\"\"}}}],\"scattercarpet\":[{\"type\":\"scattercarpet\",\"marker\":{\"colorbar\":{\"outlinewidth\":0,\"ticks\":\"\"}}}],\"carpet\":[{\"aaxis\":{\"endlinecolor\":\"#2a3f5f\",\"gridcolor\":\"white\",\"linecolor\":\"white\",\"minorgridcolor\":\"white\",\"startlinecolor\":\"#2a3f5f\"},\"baxis\":{\"endlinecolor\":\"#2a3f5f\",\"gridcolor\":\"white\",\"linecolor\":\"white\",\"minorgridcolor\":\"white\",\"startlinecolor\":\"#2a3f5f\"},\"type\":\"carpet\"}],\"table\":[{\"cells\":{\"fill\":{\"color\":\"#EBF0F8\"},\"line\":{\"color\":\"white\"}},\"header\":{\"fill\":{\"color\":\"#C8D4E3\"},\"line\":{\"color\":\"white\"}},\"type\":\"table\"}],\"barpolar\":[{\"marker\":{\"line\":{\"color\":\"#E5ECF6\",\"width\":0.5},\"pattern\":{\"fillmode\":\"overlay\",\"size\":10,\"solidity\":0.2}},\"type\":\"barpolar\"}],\"pie\":[{\"automargin\":true,\"type\":\"pie\"}]},\"layout\":{\"autotypenumbers\":\"strict\",\"colorway\":[\"#636efa\",\"#EF553B\",\"#00cc96\",\"#ab63fa\",\"#FFA15A\",\"#19d3f3\",\"#FF6692\",\"#B6E880\",\"#FF97FF\",\"#FECB52\"],\"font\":{\"color\":\"#2a3f5f\"},\"hovermode\":\"closest\",\"hoverlabel\":{\"align\":\"left\"},\"paper_bgcolor\":\"white\",\"plot_bgcolor\":\"#E5ECF6\",\"polar\":{\"bgcolor\":\"#E5ECF6\",\"angularaxis\":{\"gridcolor\":\"white\",\"linecolor\":\"white\",\"ticks\":\"\"},\"radialaxis\":{\"gridcolor\":\"white\",\"linecolor\":\"white\",\"ticks\":\"\"}},\"ternary\":{\"bgcolor\":\"#E5ECF6\",\"aaxis\":{\"gridcolor\":\"white\",\"linecolor\":\"white\",\"ticks\":\"\"},\"baxis\":{\"gridcolor\":\"white\",\"linecolor\":\"white\",\"ticks\":\"\"},\"caxis\":{\"gridcolor\":\"white\",\"linecolor\":\"white\",\"ticks\":\"\"}},\"coloraxis\":{\"colorbar\":{\"outlinewidth\":0,\"ticks\":\"\"}},\"colorscale\":{\"sequential\":[[0.0,\"#0d0887\"],[0.1111111111111111,\"#46039f\"],[0.2222222222222222,\"#7201a8\"],[0.3333333333333333,\"#9c179e\"],[0.4444444444444444,\"#bd3786\"],[0.5555555555555556,\"#d8576b\"],[0.6666666666666666,\"#ed7953\"],[0.7777777777777778,\"#fb9f3a\"],[0.8888888888888888,\"#fdca26\"],[1.0,\"#f0f921\"]],\"sequentialminus\":[[0.0,\"#0d0887\"],[0.1111111111111111,\"#46039f\"],[0.2222222222222222,\"#7201a8\"],[0.3333333333333333,\"#9c179e\"],[0.4444444444444444,\"#bd3786\"],[0.5555555555555556,\"#d8576b\"],[0.6666666666666666,\"#ed7953\"],[0.7777777777777778,\"#fb9f3a\"],[0.8888888888888888,\"#fdca26\"],[1.0,\"#f0f921\"]],\"diverging\":[[0,\"#8e0152\"],[0.1,\"#c51b7d\"],[0.2,\"#de77ae\"],[0.3,\"#f1b6da\"],[0.4,\"#fde0ef\"],[0.5,\"#f7f7f7\"],[0.6,\"#e6f5d0\"],[0.7,\"#b8e186\"],[0.8,\"#7fbc41\"],[0.9,\"#4d9221\"],[1,\"#276419\"]]},\"xaxis\":{\"gridcolor\":\"white\",\"linecolor\":\"white\",\"ticks\":\"\",\"title\":{\"standoff\":15},\"zerolinecolor\":\"white\",\"automargin\":true,\"zerolinewidth\":2},\"yaxis\":{\"gridcolor\":\"white\",\"linecolor\":\"white\",\"ticks\":\"\",\"title\":{\"standoff\":15},\"zerolinecolor\":\"white\",\"automargin\":true,\"zerolinewidth\":2},\"scene\":{\"xaxis\":{\"backgroundcolor\":\"#E5ECF6\",\"gridcolor\":\"white\",\"linecolor\":\"white\",\"showbackground\":true,\"ticks\":\"\",\"zerolinecolor\":\"white\",\"gridwidth\":2},\"yaxis\":{\"backgroundcolor\":\"#E5ECF6\",\"gridcolor\":\"white\",\"linecolor\":\"white\",\"showbackground\":true,\"ticks\":\"\",\"zerolinecolor\":\"white\",\"gridwidth\":2},\"zaxis\":{\"backgroundcolor\":\"#E5ECF6\",\"gridcolor\":\"white\",\"linecolor\":\"white\",\"showbackground\":true,\"ticks\":\"\",\"zerolinecolor\":\"white\",\"gridwidth\":2}},\"shapedefaults\":{\"line\":{\"color\":\"#2a3f5f\"}},\"annotationdefaults\":{\"arrowcolor\":\"#2a3f5f\",\"arrowhead\":0,\"arrowwidth\":1},\"geo\":{\"bgcolor\":\"white\",\"landcolor\":\"#E5ECF6\",\"subunitcolor\":\"white\",\"showland\":true,\"showlakes\":true,\"lakecolor\":\"white\"},\"title\":{\"x\":0.05},\"mapbox\":{\"style\":\"light\"}}},\"xaxis\":{\"anchor\":\"y\",\"domain\":[0.0,0.45],\"title\":{\"text\":\"Flood depth (m)\",\"font\":{\"size\":14}}},\"yaxis\":{\"anchor\":\"x\",\"domain\":[0.0,1.0],\"title\":{\"text\":\"Damage as fraction of insurable value\",\"font\":{\"size\":14}}},\"xaxis2\":{\"anchor\":\"y2\",\"domain\":[0.55,1.0],\"title\":{\"text\":\"Threshold (\\u00b0C)\",\"font\":{\"size\":14}}},\"yaxis2\":{\"anchor\":\"x2\",\"domain\":[0.0,1.0],\"title\":{\"text\":\"Fractional loss of production\",\"font\":{\"size\":14}}}},                        {\"responsive\": true}                    ).then(function(){\n",
       "                            \n",
       "var gd = document.getElementById('f447e2de-0c52-433c-b75f-67d4ed938dc1');\n",
       "var x = new MutationObserver(function (mutations, observer) {{\n",
       "        var display = window.getComputedStyle(gd).display;\n",
       "        if (!display || display === 'none') {{\n",
       "            console.log([gd, 'removed!']);\n",
       "            Plotly.purge(gd);\n",
       "            observer.disconnect();\n",
       "        }}\n",
       "}});\n",
       "\n",
       "// Listen for the removal of the full notebook cells\n",
       "var notebookContainer = gd.closest('#notebook-container');\n",
       "if (notebookContainer) {{\n",
       "    x.observe(notebookContainer, {childList: true});\n",
       "}}\n",
       "\n",
       "// Listen for the clearing of the current output cell\n",
       "var outputEl = gd.closest('.output');\n",
       "if (outputEl) {{\n",
       "    x.observe(outputEl, {childList: true});\n",
       "}}\n",
       "\n",
       "                        })                };                });            </script>        </div>"
      ]
     },
     "metadata": {},
     "output_type": "display_data"
    }
   ],
   "source": [
    "fig1 = make_subplots(rows=1, cols=2)\n",
    "fig1.add_trace(\n",
    "    go.Scatter(x=c1.points_x, y=c1.points_y, name=\"Example damage curve\"),\n",
    "    row=1,\n",
    "    col=1,\n",
    ")\n",
    "fig1.add_trace(\n",
    "    go.Scatter(x=c2.points_x, y=c2.points_y, name=\"Example threshold curve\"),\n",
    "    row=1,\n",
    "    col=2,\n",
    ")\n",
    "fig1.update_xaxes(\n",
    "    title=\"Flood depth (m)\", title_font={\"size\": 14}, row=1, col=1\n",
    ")\n",
    "fig1.update_xaxes(\n",
    "    title=\"Threshold (°C)\", title_font={\"size\": 14}, row=1, col=2\n",
    ")\n",
    "fig1.update_yaxes(title=\"Damage as fraction of insurable value\", title_font={\"size\": 14}, row=1, col=1)\n",
    "fig1.update_yaxes(title=\"Fractional loss of production\", title_font={\"size\": 14}, row=1, col=2)"
   ]
  },
  {
   "cell_type": "code",
   "execution_count": null,
   "metadata": {},
   "outputs": [],
   "source": [
    "\n",
    "from dataclasses import field\n",
    "from typing import Optional, Sequence\n",
    "\n",
    "\n",
    "class VulnerabilityConfigItem:\n",
    "    hazard_class: str  # Name of the physrisk hazard class, e.g. 'RiverineInundation'. This can be a comma-separated list, e.g. 'RiverineInundation,CoastalInundation'.\n",
    "    asset_class: str  # Name of physrisk asset class, e.g. 'RealEstateAsset'.\n",
    "    asset_identifier: str # Identifier of the asset, within the class. This is a comma-separated list of key value pairs, e.g. 'type=Buildings/Commercial,location=Europe'. \n",
    "    indicator_id: str # The identifier of the hazard indicator, e.g. 'flood_depth'.\n",
    "    indicator_units: Optional[str] # The units of the hazard indicator, e.g. 'metres'.\n",
    "    impact_id: str # Whether the impact is a 'damage' or 'disruption'.\n",
    "    impact_units: Optional[str] # The units of the impact, typically omitted.\n",
    "    curve_type: str # Commonly 'indicator/piecewise_linear' or 'threshold/piecewise_linear'.\n",
    "    points_x: Optional[Sequence[float]] # The vulnerability function 'x' values.\n",
    "    points_y: Optional[Sequence[float]] # The vulnerability function 'y' values.\n",
    "    points_z: Optional[Sequence[float]] # The vulnerability function 'z' values.\n",
    "    cap_of_points_x: Optional[float] # Convenience parameter: if specified, caps the 'x' values.\n",
    "    cap_of_points_y: Optional[float] # Convenience parameter: if specified, caps the 'y' values.\n",
    "    activation_of_points_x: Optional[float] # Convenience parameter: if specified, the damage or disruption is zero below the activation threshold."
   ]
  },
  {
   "cell_type": "markdown",
   "metadata": {},
   "source": [
    "In csv, the lines look like (note the \"\" around comma-separated items):\n",
    "\n",
    "Wind,Asset,\"type=Generic,location=Asia\",max_speed,m/s,damage,,indicator/piecewise_linear,\"[20,25,30,35,40,45,50,55,60,65,70,75,80,85,90,130]\",\"[0,0,0,0.01,0.04,0.09,0.17,0.25,0.34,0.42,0.49,0.55,0.61,0.66,0.71,1.0]\",,,"
   ]
  },
  {
   "cell_type": "markdown",
   "metadata": {},
   "source": [
    "\n",
    "\n",
    "In terms of representing curves, I see (at least) 3 use-cases. Perhaps the most frequently-used case will be where we have the hazard intensity ($x$) values and the corresponding impact (damage/disruption) ($y$) values. This can be captured by $x$ and $y$ fields each containing an array. We can add a third $z$ field to capture information about the uncertainty in the vulnerability functions.\n",
    "\n",
    "### Case 1: deterministic damage curve provided\n",
    "The hazard intensity values, $x_i$, are given, $i \\in [1 \\dots n]$ and the corresponding impacts $y_i$.\n",
    "\n",
    "$x = [x_1, x_2, \\dots, x_n]$  \n",
    "$y = [y_1, y_2, \\dots, y_n]$  \n",
    "$z$ is empty\n",
    "\n",
    "### Case 2: mean and standard deviation provided\n",
    "The hazard intensity values, $x_i$, are given, $i \\in [1 \\dots n]$.\n",
    "\n",
    "$f_i(y) =  \\mathbb{P}(Y=y|x_i)$      \n",
    "$\\mu_i = \\int f_i(y) y  dy$   \n",
    "$\\sigma_i^2 = \\int f_i(y) y^2  dy - \\mu_i^2$\n",
    "\n",
    "The means are given in $y$ and the standard deviations in $z$.\n",
    "\n",
    "$x = [x_1, x_2, \\dots, x_n ]$  \n",
    "$y = [\\mu_1, \\mu_2, \\dots, \\mu_n ]$  \n",
    "$z = [\\sigma_1, \\sigma_2, \\dots, \\sigma_n ]$\n",
    "\n",
    "### Case 3: discrete piece-wise linear cumulative density function (CDF) provided\n",
    "The hazard intensity values, $x_i$, are given, $i \\in [1 \\dots n]$.\n",
    "\n",
    "$F_i(y) = \\mathbb{P}(Y \\leq y|x_i)$\n",
    "\n",
    "The CDF, $F_i(y)$, is given for points $y_j$, $j \\in [1 \\dots m]$.\n",
    "$F_{ij} = \\mathbb{P}(Y \\leq y_i|x_i)$\n",
    "\n",
    "$x = [x_1, x_2, \\dots, x_n ]$  \n",
    "$y = [y_1, y_2, \\dots, y_m ]$  \n",
    "$z = [[F_{11}, F_{12}, \\dots, F_{1m}], [F_{21}, F_{12}, \\dots, F_{2m}], \\dots, [F_{n1}, F_{n2}, \\dots, F_{nm}]]$"
   ]
  },
  {
   "cell_type": "code",
   "execution_count": null,
   "metadata": {},
   "outputs": [],
   "source": []
  }
 ],
 "metadata": {
  "kernelspec": {
   "display_name": ".venv",
   "language": "python",
   "name": "python3"
  },
  "language_info": {
   "codemirror_mode": {
    "name": "ipython",
    "version": 3
   },
   "file_extension": ".py",
   "mimetype": "text/x-python",
   "name": "python",
   "nbconvert_exporter": "python",
   "pygments_lexer": "ipython3",
   "version": "3.9.18"
  }
 },
 "nbformat": 4,
 "nbformat_minor": 2
}
